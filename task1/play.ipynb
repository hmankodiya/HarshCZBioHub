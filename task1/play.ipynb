{
 "cells": [
  {
   "cell_type": "code",
   "execution_count": 4,
   "id": "0cab9bf0",
   "metadata": {},
   "outputs": [],
   "source": [
    "import os\n",
    "import sys\n",
    "\n",
    "# Adjust path so 'iohub_wrapper' can be found\n",
    "project_root = os.path.abspath(os.path.join(os.getcwd(), \"..\"))\n",
    "if project_root not in sys.path:\n",
    "    sys.path.insert(0, project_root)\n",
    "\n",
    "import iohub\n",
    "from iohub.convert import TIFFConverter\n",
    "from iohub.ngff import open_ome_zarr"
   ]
  },
  {
   "cell_type": "code",
   "execution_count": 5,
   "id": "195d181e",
   "metadata": {},
   "outputs": [
    {
     "data": {
      "text/plain": [
       "'../dataset1/KazanskyStar/'"
      ]
     },
     "execution_count": 5,
     "metadata": {},
     "output_type": "execute_result"
    }
   ],
   "source": [
    "DATASET1_PATH = '../dataset1/KazanskyStar/'\n",
    "DATASET1_PATH"
   ]
  },
  {
   "cell_type": "markdown",
   "id": "86a298ca",
   "metadata": {},
   "source": [
    "# TIFF to Zarr Conversion"
   ]
  },
  {
   "cell_type": "code",
   "execution_count": 6,
   "id": "12c65517",
   "metadata": {},
   "outputs": [
    {
     "name": "stderr",
     "output_type": "stream",
     "text": [
      "INFO:iohub.convert:Initializing data.\n",
      "WARNING:iohub.mmstack:XY pixel size cannot be determined, defaulting to 1.0 um.\n",
      "INFO:iohub.convert:Found Dataset ../dataset1/KazanskyStar/ with dimensions (P, T, C, Z, Y, X): (3, 2, 4, 81, 231, 498)\n",
      "Converting images:   0%|                                 | 0/3 [00:00<?, ?FOV/s]"
     ]
    },
    {
     "data": {
      "application/vnd.jupyter.widget-view+json": {
       "model_id": "808921a7ee4946c49415185f31b5433e",
       "version_major": 2,
       "version_minor": 0
      },
      "text/plain": [
       "Converting frame metadata:   0%|                       | 0/8 [00:00<?, ?frame/s]"
      ]
     },
     "metadata": {},
     "output_type": "display_data"
    },
    {
     "name": "stderr",
     "output_type": "stream",
     "text": [
      "Converting images:  33%|████████▎                | 1/3 [00:01<00:02,  1.10s/FOV]"
     ]
    },
    {
     "data": {
      "application/vnd.jupyter.widget-view+json": {
       "model_id": "fd17c200d9b849bca765a7320ce0d097",
       "version_major": 2,
       "version_minor": 0
      },
      "text/plain": [
       "Converting frame metadata:   0%|                       | 0/8 [00:00<?, ?frame/s]"
      ]
     },
     "metadata": {},
     "output_type": "display_data"
    },
    {
     "name": "stderr",
     "output_type": "stream",
     "text": [
      "Converting images:  67%|████████████████▋        | 2/3 [00:01<00:00,  1.04FOV/s]"
     ]
    },
    {
     "data": {
      "application/vnd.jupyter.widget-view+json": {
       "model_id": "d4757a37fe994f0faee992306efe625b",
       "version_major": 2,
       "version_minor": 0
      },
      "text/plain": [
       "Converting frame metadata:   0%|                       | 0/8 [00:00<?, ?frame/s]"
      ]
     },
     "metadata": {},
     "output_type": "display_data"
    },
    {
     "name": "stderr",
     "output_type": "stream",
     "text": [
      "Converting images: 100%|█████████████████████████| 3/3 [00:02<00:00,  1.01FOV/s]\n"
     ]
    }
   ],
   "source": [
    "output_path = './ome_zarr/ome.zarr'\n",
    "converter = TIFFConverter(DATASET1_PATH, output_dir=output_path, )\n",
    "converter()"
   ]
  },
  {
   "cell_type": "markdown",
   "id": "d907de65",
   "metadata": {},
   "source": [
    "# Reteriving Zarr"
   ]
  },
  {
   "cell_type": "code",
   "execution_count": null,
   "id": "8f303863",
   "metadata": {},
   "outputs": [],
   "source": [
    "from iohub.ngff import open_ome_zarr\n",
    "from iohub_wrapper.inspect_zarr import (\n",
    "    reterive_zarr_arrays,\n",
    "    get_zarr_metadata,\n",
    "    pretty_print_zarr_metadata,\n",
    ")"
   ]
  },
  {
   "cell_type": "code",
   "execution_count": 8,
   "id": "959f3cf3",
   "metadata": {},
   "outputs": [
    {
     "data": {
      "text/plain": [
       "[<iohub.ngff.nodes.ImageArray '/0/0/0/0' (2, 4, 81, 231, 498) uint16 read-only>,\n",
       " <iohub.ngff.nodes.ImageArray '/0/1/0/0' (2, 4, 81, 231, 498) uint16 read-only>,\n",
       " <iohub.ngff.nodes.ImageArray '/0/2/0/0' (2, 4, 81, 231, 498) uint16 read-only>]"
      ]
     },
     "execution_count": 8,
     "metadata": {},
     "output_type": "execute_result"
    }
   ],
   "source": [
    "zarr_path = './ome_zarr/ome.zarr'\n",
    "ome_zarr = open_ome_zarr(zarr_path)\n",
    "images = reterive_zarr_arrays(ome_zarr)\n",
    "images"
   ]
  },
  {
   "cell_type": "code",
   "execution_count": 9,
   "id": "729c81c4",
   "metadata": {},
   "outputs": [
    {
     "data": {
      "text/plain": [
       "dict_keys(['channel_names', '/0/0/0/0', '/0/1/0/0', '/0/2/0/0'])"
      ]
     },
     "execution_count": 9,
     "metadata": {},
     "output_type": "execute_result"
    }
   ],
   "source": [
    "meta = get_zarr_metadata(zarr_path)\n",
    "meta.keys()"
   ]
  },
  {
   "cell_type": "code",
   "execution_count": 10,
   "id": "ff180ba0",
   "metadata": {},
   "outputs": [
    {
     "name": "stdout",
     "output_type": "stream",
     "text": [
      "OME-Zarr Metadata Summary\n",
      "-------------------------\n",
      "Path          : ./ome_zarr/ome.zarr\n",
      "\n",
      "/\n",
      " └── 0\n",
      "     ├── 0\n",
      "     │   └── 0\n",
      "     │       └── 0 (2, 4, 81, 231, 498) uint16\n",
      "     ├── 1\n",
      "     │   └── 0\n",
      "     │       └── 0 (2, 4, 81, 231, 498) uint16\n",
      "     └── 2\n",
      "         └── 0\n",
      "             └── 0 (2, 4, 81, 231, 498) uint16\n",
      "\n",
      "Channel Names : ['State0', 'State1', 'State2', 'State3']\n",
      "\n",
      "[Image Array] 0/0/0/0\n",
      "  Shape       : (2, 4, 81, 231, 498)\n",
      "  NDim        : 5\n",
      "  Size        : 74544624\n",
      "  nbytes      : 149089248\n",
      "  Dtype       : uint16\n",
      "  Chunk Sizes : (1, 1, 81, 231, 498)\n",
      "\n",
      "[Image Array] 0/1/0/0\n",
      "  Shape       : (2, 4, 81, 231, 498)\n",
      "  NDim        : 5\n",
      "  Size        : 74544624\n",
      "  nbytes      : 149089248\n",
      "  Dtype       : uint16\n",
      "  Chunk Sizes : (1, 1, 81, 231, 498)\n",
      "\n",
      "[Image Array] 0/2/0/0\n",
      "  Shape       : (2, 4, 81, 231, 498)\n",
      "  NDim        : 5\n",
      "  Size        : 74544624\n",
      "  nbytes      : 149089248\n",
      "  Dtype       : uint16\n",
      "  Chunk Sizes : (1, 1, 81, 231, 498)\n",
      "\n"
     ]
    }
   ],
   "source": [
    "pretty_print_zarr_metadata(zarr_path)"
   ]
  },
  {
   "cell_type": "code",
   "execution_count": null,
   "id": "d04650ec",
   "metadata": {},
   "outputs": [],
   "source": []
  }
 ],
 "metadata": {
  "kernelspec": {
   "display_name": "CZ",
   "language": "python",
   "name": "python3"
  },
  "language_info": {
   "codemirror_mode": {
    "name": "ipython",
    "version": 3
   },
   "file_extension": ".py",
   "mimetype": "text/x-python",
   "name": "python",
   "nbconvert_exporter": "python",
   "pygments_lexer": "ipython3",
   "version": "3.11.12"
  }
 },
 "nbformat": 4,
 "nbformat_minor": 5
}
